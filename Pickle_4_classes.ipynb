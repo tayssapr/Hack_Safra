{
 "cells": [
  {
   "cell_type": "code",
   "execution_count": 4,
   "id": "26d26708",
   "metadata": {
    "ExecuteTime": {
     "end_time": "2022-04-03T03:01:37.803213Z",
     "start_time": "2022-04-03T03:01:37.747365Z"
    }
   },
   "outputs": [],
   "source": [
    "\n",
    "import pandas as pd\n",
    "from sklearn.preprocessing import MinMaxScaler\n",
    "from sklearn import preprocessing\n",
    "\n",
    "df = pd.read_csv('outputCustom_10000.csv', delimiter =';', thousands=\".\")\n",
    "df1 = df.drop(columns = ['Id'])\n",
    "a = { 'UNIAO_ESTAVEL' : 1,\n",
    "      'OUTRO' : 2,\n",
    "      'CASADO' : 3,\n",
    "      'VIUVO' : 4,\n",
    "     'SEPARADO_JUDICIALMENTE': 5,\n",
    "     'DIVORCIADO' : 6,\n",
    "     'SOLTEIRO':  7\n",
    "    }\n",
    "df1['status_civil'] = df1['status_civil'].map(a)\n",
    "min_max_scaler = preprocessing.MinMaxScaler()\n",
    "np_df = min_max_scaler.fit_transform(df1)\n",
    "df_np = pd.DataFrame(np_df, columns = df1.columns)\n"
   ]
  },
  {
   "cell_type": "code",
   "execution_count": 5,
   "id": "d770cd41",
   "metadata": {
    "ExecuteTime": {
     "end_time": "2022-04-03T03:01:40.146160Z",
     "start_time": "2022-04-03T03:01:39.925592Z"
    }
   },
   "outputs": [
    {
     "data": {
      "text/plain": [
       "3"
      ]
     },
     "execution_count": 5,
     "metadata": {},
     "output_type": "execute_result"
    }
   ],
   "source": [
    "import pickle\n",
    "agrupador = pickle.load(open('modelo_risco_inadimplencia_4_classes', 'rb'))\n",
    "agrupador.predict(df_np)[1]"
   ]
  },
  {
   "cell_type": "code",
   "execution_count": null,
   "id": "855a4028",
   "metadata": {},
   "outputs": [],
   "source": []
  }
 ],
 "metadata": {
  "hide_input": false,
  "kernelspec": {
   "display_name": "Python 3 (ipykernel)",
   "language": "python",
   "name": "python3"
  },
  "language_info": {
   "codemirror_mode": {
    "name": "ipython",
    "version": 3
   },
   "file_extension": ".py",
   "mimetype": "text/x-python",
   "name": "python",
   "nbconvert_exporter": "python",
   "pygments_lexer": "ipython3",
   "version": "3.8.12"
  },
  "toc": {
   "base_numbering": 1,
   "nav_menu": {},
   "number_sections": true,
   "sideBar": true,
   "skip_h1_title": false,
   "title_cell": "Table of Contents",
   "title_sidebar": "Contents",
   "toc_cell": false,
   "toc_position": {},
   "toc_section_display": true,
   "toc_window_display": false
  }
 },
 "nbformat": 4,
 "nbformat_minor": 5
}
